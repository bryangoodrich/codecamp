{
  "cells": [
    {
      "attachments": {},
      "cell_type": "markdown",
      "metadata": {
        "id": "Eg62Pmz3o83v"
      },
      "source": [
        "# Extra Credit\n",
        "\n",
        "For this notebook I want to explore more NLP topics from a tensorflow perspective. These include \n",
        "\n",
        "1. Skipgram processing\n",
        "1. Word2Vec using embeddings (see https://www.tensorflow.org/tutorials/text/word2vec)\n",
        "1. Building a spam classifier that uses Word2Vec transformed data and skipgrams (\"more meaningful\")"
      ]
    },
    {
      "cell_type": "code",
      "execution_count": 2,
      "metadata": {
        "id": "8RZOuS9LWQvv"
      },
      "outputs": [
        {
          "name": "stdout",
          "output_type": "stream",
          "text": [
            "2.12.0-dev20221212\n"
          ]
        }
      ],
      "source": [
        "import tensorflow as tf\n",
        "import pandas as pd\n",
        "from tensorflow import keras\n",
        "import numpy as np\n",
        "import matplotlib.pyplot as plt\n",
        "\n",
        "from tensorflow.keras.preprocessing.text import Tokenizer\n",
        "from tensorflow.keras.preprocessing.sequence import pad_sequences\n",
        "\n",
        "from tensorflow.keras.layers import Embedding, Flatten, Dense, SimpleRNN, LSTM\n",
        "\n",
        "print(tf.__version__)"
      ]
    },
    {
      "cell_type": "code",
      "execution_count": 3,
      "metadata": {
        "id": "lMHwYXHXCar3"
      },
      "outputs": [],
      "source": [
        "train_file_path = \"data/train-data.tsv\"\n",
        "test_file_path = \"data/valid-data.tsv\"\n",
        "header = [\"labels\", \"text\"]\n",
        "\n",
        "train_df = pd.read_csv(train_file_path, sep=\"\\t\", header = None, names = header)\n",
        "test_df = pd.read_csv(test_file_path, sep=\"\\t\", header = None, names = header)\n",
        "\n",
        "train_text, test_text = train_df.text, test_df.text\n",
        "train_labels = np.where(train_df.labels == \"ham\", 0, 1)\n",
        "test_labels = np.where(test_df.labels == \"ham\", 0, 1)\n"
      ]
    },
    {
      "cell_type": "code",
      "execution_count": 4,
      "metadata": {},
      "outputs": [],
      "source": [
        "def text_encoded(tokenizer):\n",
        "    def inner(text, maxlen, truncating = \"post\", padding = \"post\"):\n",
        "        sequences = tokenizer.texts_to_sequences(text)\n",
        "        padded = pad_sequences(sequences, maxlen = maxlen, padding = padding, truncating = truncating)\n",
        "        return padded\n",
        "    return inner\n",
        "\n"
      ]
    },
    {
      "cell_type": "code",
      "execution_count": null,
      "metadata": {},
      "outputs": [],
      "source": []
    },
    {
      "cell_type": "code",
      "execution_count": null,
      "metadata": {},
      "outputs": [],
      "source": []
    },
    {
      "cell_type": "code",
      "execution_count": null,
      "metadata": {},
      "outputs": [],
      "source": []
    },
    {
      "attachments": {},
      "cell_type": "markdown",
      "metadata": {},
      "source": [
        "# Run Once\n",
        "\n",
        "Get the data into a local storage folder\n",
        "\n",
        "Requirement: make a `data` folder here."
      ]
    },
    {
      "cell_type": "code",
      "execution_count": 2,
      "metadata": {},
      "outputs": [],
      "source": [
        "import requests\n",
        "import os\n",
        "\n",
        "urls = [\"https://cdn.freecodecamp.org/project-data/sms/train-data.tsv\", \"https://cdn.freecodecamp.org/project-data/sms/valid-data.tsv\"]\n",
        "\n",
        "for url in urls:\n",
        "    filename = os.path.join(\"data\", os.path.basename(url))\n",
        "    with open(filename , 'wb') as fh:\n",
        "        fh.write(requests.get(url).content)"
      ]
    }
  ],
  "metadata": {
    "colab": {
      "collapsed_sections": [],
      "name": "fcc_sms_text_classification.ipynb",
      "private_outputs": true,
      "provenance": [],
      "toc_visible": true
    },
    "kernelspec": {
      "display_name": "venv",
      "language": "python",
      "name": "python3"
    },
    "language_info": {
      "codemirror_mode": {
        "name": "ipython",
        "version": 3
      },
      "file_extension": ".py",
      "mimetype": "text/x-python",
      "name": "python",
      "nbconvert_exporter": "python",
      "pygments_lexer": "ipython3",
      "version": "3.10.6 (tags/v3.10.6:9c7b4bd, Aug  1 2022, 21:53:49) [MSC v.1932 64 bit (AMD64)]"
    },
    "vscode": {
      "interpreter": {
        "hash": "60c36fdf84317347e8cb3e2b8ae1511e6e53331bcde8a306df0845701f1330b3"
      }
    }
  },
  "nbformat": 4,
  "nbformat_minor": 0
}
